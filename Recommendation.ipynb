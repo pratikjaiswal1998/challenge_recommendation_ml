{
 "cells": [
  {
   "cell_type": "code",
   "execution_count": 1,
   "metadata": {},
   "outputs": [
    {
     "name": "stderr",
     "output_type": "stream",
     "text": [
      "C:\\Users\\pj528\\Anaconda3\\lib\\site-packages\\statsmodels\\tools\\_testing.py:19: FutureWarning: pandas.util.testing is deprecated. Use the functions in the public API at pandas.testing instead.\n",
      "  import pandas.util.testing as tm\n"
     ]
    }
   ],
   "source": [
    "import numpy as np\n",
    "import pandas as pd\n",
    "import matplotlib.pyplot as plt\n",
    "import seaborn as sns\n",
    "sns.set_style('white')\n",
    "%matplotlib inline"
   ]
  },
  {
   "cell_type": "code",
   "execution_count": 2,
   "metadata": {},
   "outputs": [],
   "source": [
    "df = pd.read_csv('challenges.csv')"
   ]
  },
  {
   "cell_type": "code",
   "execution_count": 3,
   "metadata": {},
   "outputs": [
    {
     "data": {
      "text/html": [
       "<div>\n",
       "<style scoped>\n",
       "    .dataframe tbody tr th:only-of-type {\n",
       "        vertical-align: middle;\n",
       "    }\n",
       "\n",
       "    .dataframe tbody tr th {\n",
       "        vertical-align: top;\n",
       "    }\n",
       "\n",
       "    .dataframe thead th {\n",
       "        text-align: right;\n",
       "    }\n",
       "</style>\n",
       "<table border=\"1\" class=\"dataframe\">\n",
       "  <thead>\n",
       "    <tr style=\"text-align: right;\">\n",
       "      <th></th>\n",
       "      <th>challenge_id</th>\n",
       "      <th>contest_id</th>\n",
       "      <th>domain</th>\n",
       "      <th>subdomain</th>\n",
       "      <th>difficulty</th>\n",
       "      <th>solved_submission_count</th>\n",
       "      <th>total_submissions_count</th>\n",
       "    </tr>\n",
       "  </thead>\n",
       "  <tbody>\n",
       "    <tr>\n",
       "      <th>0</th>\n",
       "      <td>18e0a2dad5e127d6</td>\n",
       "      <td>c8ff662c97d345d2</td>\n",
       "      <td>Artificial Intelligence</td>\n",
       "      <td>Bot Building</td>\n",
       "      <td>0.978261</td>\n",
       "      <td>319.0</td>\n",
       "      <td>655.0</td>\n",
       "    </tr>\n",
       "    <tr>\n",
       "      <th>1</th>\n",
       "      <td>0251520ace81bc57</td>\n",
       "      <td>c8ff662c97d345d2</td>\n",
       "      <td>Algorithms</td>\n",
       "      <td>Strings</td>\n",
       "      <td>0.894473</td>\n",
       "      <td>765.0</td>\n",
       "      <td>1267.0</td>\n",
       "    </tr>\n",
       "    <tr>\n",
       "      <th>2</th>\n",
       "      <td>425f241df843cd89</td>\n",
       "      <td>c8ff662c97d345d2</td>\n",
       "      <td>Algorithms</td>\n",
       "      <td>Strings</td>\n",
       "      <td>0.908853</td>\n",
       "      <td>1247.0</td>\n",
       "      <td>1864.0</td>\n",
       "    </tr>\n",
       "    <tr>\n",
       "      <th>3</th>\n",
       "      <td>970eca328814a522</td>\n",
       "      <td>c8ff662c97d345d2</td>\n",
       "      <td>Algorithms</td>\n",
       "      <td>Strings</td>\n",
       "      <td>0.902722</td>\n",
       "      <td>453.0</td>\n",
       "      <td>835.0</td>\n",
       "    </tr>\n",
       "    <tr>\n",
       "      <th>4</th>\n",
       "      <td>46592c29655cfc5e</td>\n",
       "      <td>c8ff662c97d345d2</td>\n",
       "      <td>Algorithms</td>\n",
       "      <td>Strings</td>\n",
       "      <td>0.900000</td>\n",
       "      <td>312.0</td>\n",
       "      <td>1363.0</td>\n",
       "    </tr>\n",
       "  </tbody>\n",
       "</table>\n",
       "</div>"
      ],
      "text/plain": [
       "       challenge_id        contest_id                   domain     subdomain  \\\n",
       "0  18e0a2dad5e127d6  c8ff662c97d345d2  Artificial Intelligence  Bot Building   \n",
       "1  0251520ace81bc57  c8ff662c97d345d2               Algorithms       Strings   \n",
       "2  425f241df843cd89  c8ff662c97d345d2               Algorithms       Strings   \n",
       "3  970eca328814a522  c8ff662c97d345d2               Algorithms       Strings   \n",
       "4  46592c29655cfc5e  c8ff662c97d345d2               Algorithms       Strings   \n",
       "\n",
       "   difficulty  solved_submission_count  total_submissions_count  \n",
       "0    0.978261                    319.0                    655.0  \n",
       "1    0.894473                    765.0                   1267.0  \n",
       "2    0.908853                   1247.0                   1864.0  \n",
       "3    0.902722                    453.0                    835.0  \n",
       "4    0.900000                    312.0                   1363.0  "
      ]
     },
     "execution_count": 3,
     "metadata": {},
     "output_type": "execute_result"
    }
   ],
   "source": [
    "df.head()"
   ]
  },
  {
   "cell_type": "code",
   "execution_count": 52,
   "metadata": {},
   "outputs": [],
   "source": [
    "df0 = pd.read_csv('submissions.csv')"
   ]
  },
  {
   "cell_type": "code",
   "execution_count": 53,
   "metadata": {},
   "outputs": [
    {
     "data": {
      "text/html": [
       "<div>\n",
       "<style scoped>\n",
       "    .dataframe tbody tr th:only-of-type {\n",
       "        vertical-align: middle;\n",
       "    }\n",
       "\n",
       "    .dataframe tbody tr th {\n",
       "        vertical-align: top;\n",
       "    }\n",
       "\n",
       "    .dataframe thead th {\n",
       "        text-align: right;\n",
       "    }\n",
       "</style>\n",
       "<table border=\"1\" class=\"dataframe\">\n",
       "  <thead>\n",
       "    <tr style=\"text-align: right;\">\n",
       "      <th></th>\n",
       "      <th>user_id</th>\n",
       "      <th>contest_id</th>\n",
       "      <th>challenge_id</th>\n",
       "      <th>language</th>\n",
       "      <th>solved</th>\n",
       "      <th>created_at</th>\n",
       "    </tr>\n",
       "  </thead>\n",
       "  <tbody>\n",
       "    <tr>\n",
       "      <th>0</th>\n",
       "      <td>56d47667c6a9242e</td>\n",
       "      <td>c8ff662c97d345d2</td>\n",
       "      <td>6d95afeb4d968b91</td>\n",
       "      <td>java</td>\n",
       "      <td>0</td>\n",
       "      <td>2011-08-07 00:36:53 UTC</td>\n",
       "    </tr>\n",
       "    <tr>\n",
       "      <th>1</th>\n",
       "      <td>56d47667c6a9242e</td>\n",
       "      <td>c8ff662c97d345d2</td>\n",
       "      <td>6d95afeb4d968b91</td>\n",
       "      <td>java</td>\n",
       "      <td>0</td>\n",
       "      <td>2011-08-07 00:38:45 UTC</td>\n",
       "    </tr>\n",
       "    <tr>\n",
       "      <th>2</th>\n",
       "      <td>56d47667c6a9242e</td>\n",
       "      <td>c8ff662c97d345d2</td>\n",
       "      <td>6d95afeb4d968b91</td>\n",
       "      <td>java</td>\n",
       "      <td>0</td>\n",
       "      <td>2011-08-07 00:43:49 UTC</td>\n",
       "    </tr>\n",
       "    <tr>\n",
       "      <th>3</th>\n",
       "      <td>56d47667c6a9242e</td>\n",
       "      <td>c8ff662c97d345d2</td>\n",
       "      <td>6d95afeb4d968b91</td>\n",
       "      <td>java</td>\n",
       "      <td>0</td>\n",
       "      <td>2011-08-07 00:52:34 UTC</td>\n",
       "    </tr>\n",
       "    <tr>\n",
       "      <th>4</th>\n",
       "      <td>56d47667c6a9242e</td>\n",
       "      <td>c8ff662c97d345d2</td>\n",
       "      <td>6d95afeb4d968b91</td>\n",
       "      <td>java</td>\n",
       "      <td>0</td>\n",
       "      <td>2011-08-07 00:56:52 UTC</td>\n",
       "    </tr>\n",
       "  </tbody>\n",
       "</table>\n",
       "</div>"
      ],
      "text/plain": [
       "            user_id        contest_id      challenge_id language  solved  \\\n",
       "0  56d47667c6a9242e  c8ff662c97d345d2  6d95afeb4d968b91     java       0   \n",
       "1  56d47667c6a9242e  c8ff662c97d345d2  6d95afeb4d968b91     java       0   \n",
       "2  56d47667c6a9242e  c8ff662c97d345d2  6d95afeb4d968b91     java       0   \n",
       "3  56d47667c6a9242e  c8ff662c97d345d2  6d95afeb4d968b91     java       0   \n",
       "4  56d47667c6a9242e  c8ff662c97d345d2  6d95afeb4d968b91     java       0   \n",
       "\n",
       "                created_at  \n",
       "0  2011-08-07 00:36:53 UTC  \n",
       "1  2011-08-07 00:38:45 UTC  \n",
       "2  2011-08-07 00:43:49 UTC  \n",
       "3  2011-08-07 00:52:34 UTC  \n",
       "4  2011-08-07 00:56:52 UTC  "
      ]
     },
     "execution_count": 53,
     "metadata": {},
     "output_type": "execute_result"
    }
   ],
   "source": [
    "df0.head()"
   ]
  },
  {
   "cell_type": "code",
   "execution_count": 4,
   "metadata": {},
   "outputs": [
    {
     "data": {
      "text/plain": [
       "(2785, 7)"
      ]
     },
     "execution_count": 4,
     "metadata": {},
     "output_type": "execute_result"
    }
   ],
   "source": [
    "df.shape"
   ]
  },
  {
   "cell_type": "code",
   "execution_count": 54,
   "metadata": {},
   "outputs": [
    {
     "data": {
      "text/plain": [
       "(672, 6)"
      ]
     },
     "execution_count": 54,
     "metadata": {},
     "output_type": "execute_result"
    }
   ],
   "source": [
    "df0.shape"
   ]
  },
  {
   "cell_type": "code",
   "execution_count": 5,
   "metadata": {},
   "outputs": [
    {
     "data": {
      "text/html": [
       "<div>\n",
       "<style scoped>\n",
       "    .dataframe tbody tr th:only-of-type {\n",
       "        vertical-align: middle;\n",
       "    }\n",
       "\n",
       "    .dataframe tbody tr th {\n",
       "        vertical-align: top;\n",
       "    }\n",
       "\n",
       "    .dataframe thead th {\n",
       "        text-align: right;\n",
       "    }\n",
       "</style>\n",
       "<table border=\"1\" class=\"dataframe\">\n",
       "  <thead>\n",
       "    <tr style=\"text-align: right;\">\n",
       "      <th></th>\n",
       "      <th>difficulty</th>\n",
       "      <th>solved_submission_count</th>\n",
       "      <th>total_submissions_count</th>\n",
       "    </tr>\n",
       "  </thead>\n",
       "  <tbody>\n",
       "    <tr>\n",
       "      <th>count</th>\n",
       "      <td>293.000000</td>\n",
       "      <td>293.000000</td>\n",
       "      <td>293.000000</td>\n",
       "    </tr>\n",
       "    <tr>\n",
       "      <th>mean</th>\n",
       "      <td>0.795035</td>\n",
       "      <td>315.095563</td>\n",
       "      <td>556.324232</td>\n",
       "    </tr>\n",
       "    <tr>\n",
       "      <th>std</th>\n",
       "      <td>0.203718</td>\n",
       "      <td>570.280619</td>\n",
       "      <td>916.516182</td>\n",
       "    </tr>\n",
       "    <tr>\n",
       "      <th>min</th>\n",
       "      <td>0.000000</td>\n",
       "      <td>0.000000</td>\n",
       "      <td>1.000000</td>\n",
       "    </tr>\n",
       "    <tr>\n",
       "      <th>25%</th>\n",
       "      <td>0.700000</td>\n",
       "      <td>10.000000</td>\n",
       "      <td>37.000000</td>\n",
       "    </tr>\n",
       "    <tr>\n",
       "      <th>50%</th>\n",
       "      <td>0.900000</td>\n",
       "      <td>55.000000</td>\n",
       "      <td>149.000000</td>\n",
       "    </tr>\n",
       "    <tr>\n",
       "      <th>75%</th>\n",
       "      <td>0.921273</td>\n",
       "      <td>369.000000</td>\n",
       "      <td>769.000000</td>\n",
       "    </tr>\n",
       "    <tr>\n",
       "      <th>max</th>\n",
       "      <td>1.000000</td>\n",
       "      <td>3769.000000</td>\n",
       "      <td>7000.000000</td>\n",
       "    </tr>\n",
       "  </tbody>\n",
       "</table>\n",
       "</div>"
      ],
      "text/plain": [
       "       difficulty  solved_submission_count  total_submissions_count\n",
       "count  293.000000               293.000000               293.000000\n",
       "mean     0.795035               315.095563               556.324232\n",
       "std      0.203718               570.280619               916.516182\n",
       "min      0.000000                 0.000000                 1.000000\n",
       "25%      0.700000                10.000000                37.000000\n",
       "50%      0.900000                55.000000               149.000000\n",
       "75%      0.921273               369.000000               769.000000\n",
       "max      1.000000              3769.000000              7000.000000"
      ]
     },
     "execution_count": 5,
     "metadata": {},
     "output_type": "execute_result"
    }
   ],
   "source": [
    "df.describe()"
   ]
  },
  {
   "cell_type": "code",
   "execution_count": 56,
   "metadata": {},
   "outputs": [
    {
     "data": {
      "text/html": [
       "<div>\n",
       "<style scoped>\n",
       "    .dataframe tbody tr th:only-of-type {\n",
       "        vertical-align: middle;\n",
       "    }\n",
       "\n",
       "    .dataframe tbody tr th {\n",
       "        vertical-align: top;\n",
       "    }\n",
       "\n",
       "    .dataframe thead th {\n",
       "        text-align: right;\n",
       "    }\n",
       "</style>\n",
       "<table border=\"1\" class=\"dataframe\">\n",
       "  <thead>\n",
       "    <tr style=\"text-align: right;\">\n",
       "      <th></th>\n",
       "      <th>solved</th>\n",
       "    </tr>\n",
       "  </thead>\n",
       "  <tbody>\n",
       "    <tr>\n",
       "      <th>count</th>\n",
       "      <td>672.000000</td>\n",
       "    </tr>\n",
       "    <tr>\n",
       "      <th>mean</th>\n",
       "      <td>0.081845</td>\n",
       "    </tr>\n",
       "    <tr>\n",
       "      <th>std</th>\n",
       "      <td>0.274333</td>\n",
       "    </tr>\n",
       "    <tr>\n",
       "      <th>min</th>\n",
       "      <td>0.000000</td>\n",
       "    </tr>\n",
       "    <tr>\n",
       "      <th>25%</th>\n",
       "      <td>0.000000</td>\n",
       "    </tr>\n",
       "    <tr>\n",
       "      <th>50%</th>\n",
       "      <td>0.000000</td>\n",
       "    </tr>\n",
       "    <tr>\n",
       "      <th>75%</th>\n",
       "      <td>0.000000</td>\n",
       "    </tr>\n",
       "    <tr>\n",
       "      <th>max</th>\n",
       "      <td>1.000000</td>\n",
       "    </tr>\n",
       "  </tbody>\n",
       "</table>\n",
       "</div>"
      ],
      "text/plain": [
       "           solved\n",
       "count  672.000000\n",
       "mean     0.081845\n",
       "std      0.274333\n",
       "min      0.000000\n",
       "25%      0.000000\n",
       "50%      0.000000\n",
       "75%      0.000000\n",
       "max      1.000000"
      ]
     },
     "execution_count": 56,
     "metadata": {},
     "output_type": "execute_result"
    }
   ],
   "source": [
    "df0.describe()"
   ]
  },
  {
   "cell_type": "code",
   "execution_count": 6,
   "metadata": {},
   "outputs": [
    {
     "data": {
      "text/plain": [
       "challenge_id               2492\n",
       "contest_id                 2492\n",
       "domain                     2656\n",
       "subdomain                  2656\n",
       "difficulty                 2492\n",
       "solved_submission_count    2492\n",
       "total_submissions_count    2492\n",
       "dtype: int64"
      ]
     },
     "execution_count": 6,
     "metadata": {},
     "output_type": "execute_result"
    }
   ],
   "source": [
    "df.isnull().sum()"
   ]
  },
  {
   "cell_type": "code",
   "execution_count": 59,
   "metadata": {},
   "outputs": [
    {
     "data": {
      "text/plain": [
       "user_id         0\n",
       "contest_id      0\n",
       "challenge_id    0\n",
       "language        0\n",
       "solved          0\n",
       "created_at      0\n",
       "dtype: int64"
      ]
     },
     "execution_count": 59,
     "metadata": {},
     "output_type": "execute_result"
    }
   ],
   "source": [
    "df0.isnull().sum()"
   ]
  },
  {
   "cell_type": "code",
   "execution_count": 7,
   "metadata": {},
   "outputs": [
    {
     "name": "stdout",
     "output_type": "stream",
     "text": [
      "['18e0a2dad5e127d6' '0251520ace81bc57' '425f241df843cd89'\n",
      " '970eca328814a522' '46592c29655cfc5e' '2b51eed75e25e273'\n",
      " '0a29ba3e013657fb' '2accc0ad0a7aaff2' 'c4938bb070adf11e'\n",
      " 'a110f92bd6ff06b9' 'a9e66e4908fb003d' '4e07173c3bba48d2'\n",
      " 'e60d8ab80ba5fcdf' '479ba4f6b9d42417' '9580a525da7618e9'\n",
      " '0facb05a7fa521b4' '888304da1c716f8e' '45ebad7a3829ffe2'\n",
      " '93c2b432b22da096' '2959d31ddfd05d84' '80eb0a91e2f0e395'\n",
      " 'dc97e128e6479e25' 'c95b0f5ab5560346' 'ad90d61c7d08ee7e'\n",
      " '2bd40d5d2746d586' 'bce1cc31d29bb2b1' '8f13f768eed4d09b'\n",
      " '563468ff37d56306' '1231892018d9380b' '8e54acaf0e912003'\n",
      " '66dcd2db429e0cf5' '8433a9019b8006cb' 'c0af13494532539f'\n",
      " '3c4a109d5a09f0fb' '4a1c59bfecc91922' 'bc9cf6267688568f'\n",
      " '8d9ec6e3f0500705' '9a3b01ed309321bb' '2e3c6c73dee3a957'\n",
      " 'ce48d021a35d9580' '8ec7a50fc439edcf' '3b94e03348cc36b7'\n",
      " '58f940847f4b244e' '1079ddc30e03d3f7' 'ab336859bceb3363'\n",
      " '676d6c14c284e023' '6577ddd4cc839132' '3927a92a10f65b91'\n",
      " '85957bca2ad6eaf3' 'fabfdd807e09f78e' '4222cafa36341635'\n",
      " '6544f8415783245d' '2131ae3296f8bd28' 'b5da0130a2764b1f'\n",
      " '589e9f325bacb32a' 'ef863d5d9813de58' '438b7c174034012b'\n",
      " '5db1b228c9c67af3' '3e58d6f2ba4743c7' '8ae95b7b0f20e81f'\n",
      " 'e354ad41d7bab36d' 'cde02ee167114c7e' '8d8f0c01bf0cac1f'\n",
      " '62567a21ffe9b2dd' '6e20930259086c03' 'e8fd04ec8de6abb5'\n",
      " 'cb6a6f7801d17e6a' '994c5f28374c0087' '1312b5323162337f'\n",
      " 'f7cf70665e649cf3' '4dc4e8c1cb7e1358' '07363d38a5a69f43'\n",
      " '6a6ec32a6f9df621' '7c79524f1dec180f' 'aca2185fa9422ad1'\n",
      " 'cc4570b51a7b565b' '7fb479a085c9c322' '3927fb4cdabb3eb4'\n",
      " '668e9cd9f87e1678' '78f3147ff824ca74' 'a73e6d3db86e683d'\n",
      " 'cbe0e3ba692d0c94' 'de49391cdc9089d3' '705214f627aaa1f1'\n",
      " '769f67a87e3374e3' '94c449b2fd2ecec4' '42529eb6b8a50c83'\n",
      " '827ce8bb179f8d98' '0dfaff850ca371eb' '7bf01240f55d9474'\n",
      " 'cbf292126b98f882' '67086bf13b38c1c4' 'bd4c29bb36752224'\n",
      " '2fb45ec0a69d6d53' 'd33bbba415bc600c' '889fadcf365e20d6'\n",
      " 'f3b71913d7fa0c61' '788e796261d8fe7e' '6a52c1698d04d2fc'\n",
      " '220a626805d08f28' '00af4811ef54e51c' '7588bda916fce64e'\n",
      " '291bca99dd9726c2' '046cd4280239b594' '8b70cbd7f8b9a2af'\n",
      " '4234a6f798992f02' '07e18856d86b7b31' 'e05e63bcccbafedb'\n",
      " '43b4c6b6f9de8346' 'feb666a0b4f1d685' '95db81fc1f3cc3da'\n",
      " 'acb2effa0bc07b87' 'b921e7bf238bd51d' '8cb0820eb317bac5'\n",
      " '06f903c836d4c7fb' 'a3be4bdcc06b3832' '70892c849d5a1cd0'\n",
      " 'b56015dc2ad267f2' 'a20a61eb8a15542e' '5f12b00bb46b5df7'\n",
      " '1d3c9df13cdedf5c' 'f758305935dae6d7' '865b0a53fafacfe3'\n",
      " '25142e063056f5f6' '8d1dff872c2819be' 'e082ffdb9256f94f'\n",
      " 'ac5052e55fd2ee02' 'd74e999dbab5c0ba' 'ffc7defbbd656390'\n",
      " '3ccbec0a50cae237' 'a6559e8a2a563442' '47d9c6c1d5e5c875'\n",
      " 'c9566f6d5ab5d514' '9cf1f5c1678e91dd' 'cef8c8bb8af2db00'\n",
      " 'a923e8838777060b' 'ef5dcabe994c349f' 'cd1471adb87e8b48'\n",
      " '168dba7350c82552' '010d99944600fbb8' '0bfe98aba1d79ac3'\n",
      " 'a5468c4656b6a9b9' '7f9615bbd54ff920' 'beaa52b7104ebe8a'\n",
      " 'f728b4da7a0ddf8b' '8524f64bb8355788' '9b8d2bb9a2c9daac'\n",
      " '9ceb4abd14dc3b51' 'fef6c3a3b0e97012' 'e2af1722192f6c80'\n",
      " '08870825bba95eb5' 'a2aed5f6c80d2ff5' '0eaffd05b8d8ca08'\n",
      " '9777c63ee0b29174' 'd6a9dde928cff43d' '0ea21bb9feaf46c8'\n",
      " '7e860acda8697471' 'c9713aed1d68c5b5' '34386eca594b7bc2'\n",
      " '55f8a66f057a7e76' 'b49bb8ec9c2b8481' '26c95b75d8237f39'\n",
      " '76fba8ff25f765b6' '7847d8ac0b934e51' '55227bd84fac5b6b'\n",
      " 'd53c7492541ddf04' '6ed2a6b18d1ac4e4' '10fbfe48f770e0e9'\n",
      " 'eb1c02ce8ab444ba' 'd6077bea22c37892' '11ab6093d726ea4e'\n",
      " '659f2ceb67eca1ef' 'ad1cc7894c991bbd' '08245c18359694b1'\n",
      " '9cecb1d759459cc7' '5e85f62bcbb42ea2' '14494ad91c883fa1'\n",
      " '32863af4fa5c200b' 'cf7aec14125de538' 'c3647a9292e553b9'\n",
      " '4e1bd7090485fcd9' '5c771a2d360dc3d4' 'ae2492d6136c955b'\n",
      " 'f693b1d35513a1bc' 'ee665e1938ce03b9' 'ca24b5d4272b9c13'\n",
      " '3411e4e6add2b8e4' 'daca00e89ba40904' 'f144c87d3373f146'\n",
      " '0173f00226fa8137' '966232bc4c111693' '0622d28085b371fe'\n",
      " '366684b779574e86' '25faddcb996a6351' '27c65bab4f7ae58b'\n",
      " '0fc22f37330131d5' '286001f675d5dc00' 'a8fa4ef7a8bc43dc'\n",
      " '1e5b724075cd3d1e' '2963acac637dbbd5' '23e484585a3b5d71'\n",
      " '8af6cdc91a12dbed' '59ec55c0e537bfcf' '2c353e1c39b2d174'\n",
      " '7f379545e1a00569' '68105145a475054f' 'edf2cbb012ca3165'\n",
      " '27efe455649ee698' '0f2974a87af04441' '1d1ef1c291bd1544'\n",
      " '1cc21aa79b1834fd' '8703a41f68340e0a' 'a99ab8b0a55131d4'\n",
      " '8a01092818b4ca31' '6c2f00ab338830d5' '8bc7477c0f6b0e13'\n",
      " 'e5b37867e3d97548' 'b83dc89a78927029' '4ca32b2592ab73ba'\n",
      " '133172ee60755587' 'daaa4f5cca620546' '5e3204219e25bd7a'\n",
      " '663f8dc0a85f9d6d' '5e7c4c10a3ceab24' '28d433f78afdce40'\n",
      " '04d37de4a52f9e22' '55502212504a74d9' '75e907498c1d0925'\n",
      " '6ec64e7d27e0c635' '8bbb60c66212e3ab' '38564e955cd5b4ff'\n",
      " '4d3079ffbc9d8b82' '10679edd0b99c8ae' '923f5c94b00cbec8'\n",
      " 'f5bbe9d934a13b45' '6a41e1519e35f8b6' '711c06ee66bcfbbc'\n",
      " '3e5dac248f78dc9e' '3f76fd90abf08eff' 'd781198448d13b91'\n",
      " '61886240110aab5d' '068e1dcc0ff293b2' 'e791624cff8e291e'\n",
      " 'b7fc8e21bccc89ef' 'fd9948921cd9154d' 'dcfb2e5fefd9c284'\n",
      " '03f695b30470d8a0' 'd6512a596aa46e9c' 'e791f544ddb37cd9'\n",
      " 'f601c504af2e4151' '3ea1501e8ebd647b' '4258057ce615b031'\n",
      " '95ec5269b00989ea' 'a1a634218917004f' '511a36667eca90f9'\n",
      " 'f0734c5517d19ba1' '22948b6ee6a5aea3' '236dec13a662098a'\n",
      " 'f22a848bd1f5a4a1' 'b4d42d62678062e6' '1fda675611007959'\n",
      " '67a1b1d6367e38ea' '5078a455b31e63dd' '8d1046770261e25f'\n",
      " '2e24268c4006b20a' '7a66b13dd8598e61' '7a56118d38127ac1'\n",
      " '880a5cbb626d2011' 'bc30fbc3c6897b24' '49f80881a664fc21'\n",
      " 'fb68b4c7862fa0cc' 'b036c577445e8155' 'e3c3e59caa291555'\n",
      " '4401e08288af700d' 'f2848e329711dab3' '9d08d49c7c392888'\n",
      " '45c4c818442560cb' 'beddb1944854cbf6' 'ad00adca9d7194ec'\n",
      " '8d23f01b30336fac' '13c9505468d13682' 'dcb76def3ced9d7b'\n",
      " 'fd32207d8c5795ab' '4fe2da53074027da' 'f62ad414720a6b8a' nan]\n",
      "['c8ff662c97d345d2' '7039fc4af6ed4556' '2f6c6a2dd757af3e'\n",
      " 'daa4cc27262ca831' '1bd6ef073f52be3d' '63facc3d92e52a61'\n",
      " 'ce9a3f131a2bf4a7' '6d0f73fdaf822f9b' '860ce3deea5bbe9a'\n",
      " '608d3889c41657fe' '751a395fd0bdc16e' '5516857d2c6c7c6c'\n",
      " '31ae41ddf9265f3c' 'd9e6c7ce9a60ee61' '60a9ba06b0186c33'\n",
      " '07ed069995630442' 'c80106f265b9e037' '5a39df6c6eeed315'\n",
      " '84f32ffa6676b2c1' '2b5fd89bb50d6c59' '005ad8d849ec3b61'\n",
      " 'b862c31b13a6438b' '5d70c374e6959faf' '29602fc1cf9ce49b'\n",
      " 'fc9dfb49eecb191d' '3dbbd40af3bf63a1' '29e7c48f06d799bd'\n",
      " 'deca314ce03bebaa' '13764f698dd09bb8' '20de246c7ff33181'\n",
      " '626610cbea06c552' '9f7f33de05b07520' nan]\n",
      "['Artificial Intelligence' 'Algorithms' nan 'Data Structures' 'C++'\n",
      " 'Mathematics' 'Security' 'Java' 'SQL' 'Python' 'Regex' 'Tutorials']\n",
      "['Bot Building' 'Strings' 'Dynamic Programming' nan 'Linked Lists'\n",
      " 'Introduction' 'Fundamentals' 'Implementation' 'Warmup' 'Greedy'\n",
      " 'Sorting' 'Combinatorics' 'Search' 'Graph Theory' 'Functions'\n",
      " 'Basic Select' 'Arrays' 'Basic Data Types' 'Character Class'\n",
      " 'Repetitions' 'Grouping and Capturing' '30 Days of Code']\n",
      "[0.97826087 0.8944734  0.90885349 0.90272169 0.9        0.41934333\n",
      " 0.7884213  0.77495108 0.75147464 0.78265238 1.         0.83178114\n",
      " 0.76744186 0.49240781 0.94152047 0.68815664 0.7        0.98724896\n",
      " 0.5        0.67482737 0.22772277 0.43181818 0.56410256 0.22033898\n",
      " 0.44559585 0.48727273 0.64285714 0.78082192 0.66666667 0.65789474\n",
      " 0.85012682 0.125      0.62804878 0.93298068 0.67878788 0.609375\n",
      " 0.72619048 0.42613636 0.59808612 0.80675818 0.69902913 0.71052632\n",
      " 0.72093023 0.65957447 0.50480256 0.69117647 0.57843137 0.39795918\n",
      " 0.59752322 0.58064516 0.55147059 0.70149254 0.46583851 0.6969697\n",
      " 0.         0.99       0.39814815 0.91382765 0.59183674 0.73564266\n",
      " 0.7037037  0.42105263 0.47058824 0.60912548 0.3        0.1\n",
      " 0.91770942 0.95018108 0.9584684  0.85894803 0.94470542 0.76582279\n",
      " 0.81735096 0.86983527 0.84392819 0.85946631 0.96285932 0.83809397\n",
      " 0.96476944 0.97206828 0.97097743 0.93198925 0.94188482 0.95207733\n",
      " 0.96884817 0.91412394 0.9801017  0.92127344 0.79586391 0.81606265\n",
      " 0.80477626 0.94191019 0.89903154 0.89657283 0.90723217 0.72995461\n",
      " 0.78142077 0.96921067 0.98468154 0.98679384 0.98081023 0.91356383\n",
      " 0.87821872 0.6953125  0.69402985 0.86956522 0.95652174 0.58695652\n",
      " 0.61165048 0.49526066 0.52873105 0.31594203 0.05237084 0.86644407\n",
      " 0.95189003 0.96471949 0.96133333 0.92993979        nan]\n",
      "[3.190e+02 7.650e+02 1.247e+03 4.530e+02 3.120e+02 1.150e+02 2.410e+02\n",
      " 8.200e+01 2.290e+02 1.230e+02 2.400e+02 3.100e+01 1.500e+01 1.200e+01\n",
      " 1.300e+01 7.000e+00 1.000e+00 5.900e+02 5.000e+00 1.800e+01 2.600e+01\n",
      " 4.000e+00 3.000e+00 1.170e+02 9.000e+00 6.000e+00 2.100e+01 8.000e+00\n",
      " 2.000e+00 1.900e+01 1.000e+01 2.500e+01 1.600e+01 2.700e+01 2.400e+01\n",
      " 1.100e+01 4.700e+01 2.300e+01 1.400e+01 7.000e+01 6.300e+01 4.600e+01\n",
      " 1.621e+03 9.170e+02 6.830e+02 2.009e+03 5.460e+02 2.367e+03 1.210e+02\n",
      " 2.460e+02 2.810e+02 2.320e+02 1.130e+02 1.080e+02 1.310e+02 1.560e+02\n",
      " 9.200e+01 9.400e+01 6.000e+01 5.100e+01 7.500e+01 5.500e+01 3.600e+01\n",
      " 4.000e+01 3.300e+01 3.500e+01 1.700e+01 2.000e+01 3.000e+01 3.572e+03\n",
      " 3.769e+03 2.675e+03 2.631e+03 2.938e+03 1.908e+03 1.781e+03 1.525e+03\n",
      " 1.064e+03 9.160e+02 6.710e+02 2.560e+02 5.570e+02 4.890e+02 1.086e+03\n",
      " 6.320e+02 3.600e+02 3.580e+02 3.450e+02 1.021e+03 5.470e+02 4.100e+02\n",
      " 3.770e+02 1.005e+03 1.170e+03 9.390e+02 7.940e+02 6.000e+02 5.050e+02\n",
      " 1.060e+02 7.600e+01 0.000e+00 5.140e+02 2.740e+02 2.240e+02 3.260e+02\n",
      " 3.240e+02 2.760e+02 2.070e+02 2.510e+02 2.150e+02 1.110e+02 8.090e+02\n",
      " 1.015e+03 7.130e+02 4.680e+02 5.080e+02 4.290e+02 3.690e+02 2.910e+02\n",
      " 1.440e+02 9.800e+01 5.230e+02 5.190e+02 1.260e+02 2.440e+02 1.900e+02\n",
      " 1.650e+02 2.087e+03 1.511e+03 1.009e+03 9.900e+02 6.060e+02 3.020e+02\n",
      " 1.128e+03 8.630e+02 8.230e+02 9.650e+02 8.670e+02 1.108e+03 1.003e+03\n",
      " 9.560e+02 9.250e+02 8.020e+02 7.070e+02 6.150e+02 4.120e+02 4.460e+02\n",
      " 4.230e+02 1.203e+03 1.340e+02 1.410e+02 8.000e+01 2.200e+01 1.820e+02\n",
      " 5.260e+02 2.380e+02 6.230e+02 2.060e+02 1.450e+02 1.390e+02 1.280e+02\n",
      " 1.240e+02 8.700e+01 7.200e+01 7.100e+01 7.400e+01 7.300e+01 6.800e+01\n",
      " 6.900e+01 2.332e+03 1.072e+03 1.028e+03 9.870e+02       nan]\n",
      "[6.550e+02 1.267e+03 1.864e+03 8.350e+02 1.363e+03 5.310e+02 4.570e+02\n",
      " 1.760e+02 8.180e+02 3.810e+02 3.710e+02 5.700e+01 8.600e+01 4.900e+01\n",
      " 1.600e+01 3.300e+01 2.000e+00 6.360e+02 1.570e+02 3.900e+01 3.400e+01\n",
      " 3.100e+01 2.000e+02 4.400e+01 8.100e+01 2.600e+01 1.700e+01 1.000e+00\n",
      " 5.000e+00 6.000e+00 1.560e+02 2.800e+01 1.500e+01 2.400e+01 6.700e+01\n",
      " 5.600e+01 9.000e+00 1.400e+01 1.300e+01 1.100e+01 8.000e+00 6.800e+01\n",
      " 5.200e+01 1.800e+01 3.700e+01 3.600e+01 9.800e+01 5.100e+01 4.500e+01\n",
      " 2.200e+01 1.520e+02 4.600e+01 9.200e+01 3.800e+01 1.200e+01 5.900e+01\n",
      " 7.300e+01 4.700e+01 7.700e+01 8.000e+01 9.000e+01 7.000e+00 5.300e+01\n",
      " 4.300e+01 4.000e+00 2.310e+02 1.000e+02 1.330e+02 2.020e+02 9.700e+01\n",
      " 3.200e+01 1.763e+03 1.314e+03 1.885e+03 2.111e+03 1.198e+03 3.055e+03\n",
      " 2.360e+02 3.820e+02 1.656e+03 5.890e+02 8.660e+02 2.120e+02 1.990e+02\n",
      " 3.170e+02 2.920e+02 1.880e+02 3.990e+02 3.290e+02 1.640e+02 2.090e+02\n",
      " 1.270e+02 1.090e+02 1.120e+02 7.100e+01 6.100e+01 8.300e+01 2.900e+01\n",
      " 7.000e+01 3.500e+01 1.510e+02 9.300e+01 4.200e+01 1.020e+02 1.900e+01\n",
      " 2.700e+01 6.000e+01 4.282e+03 5.192e+03 3.289e+03 3.122e+03 4.409e+03\n",
      " 7.000e+03 3.333e+03 2.429e+03 1.617e+03 2.911e+03 8.400e+02 7.920e+02\n",
      " 1.694e+03 1.444e+03 1.460e+03 2.427e+03 6.290e+02 1.164e+03 9.360e+02\n",
      " 3.118e+03 1.160e+03 8.370e+02 8.290e+02 1.921e+03 1.486e+03 2.615e+03\n",
      " 9.180e+02 6.440e+02 5.670e+02 1.490e+02 1.700e+02 2.600e+02 8.700e+01\n",
      " 6.630e+02 5.030e+02 3.610e+02 2.630e+02 5.560e+02 4.150e+02 4.300e+02\n",
      " 4.750e+02 4.720e+02 5.700e+02 1.287e+03 1.370e+03 1.181e+03 8.380e+02\n",
      " 1.432e+03 1.313e+03 7.800e+02 1.277e+03 1.149e+03 6.180e+02 3.320e+02\n",
      " 1.135e+03 2.200e+03 3.240e+02 8.320e+02 6.400e+01 5.000e+01 2.190e+02\n",
      " 1.730e+02 2.529e+03 1.754e+03 2.329e+03 1.881e+03 1.013e+03 1.020e+03\n",
      " 4.920e+02 1.376e+03 1.115e+03 8.620e+02 7.690e+02 1.201e+03 1.004e+03\n",
      " 1.142e+03 1.104e+03 1.016e+03 9.970e+02 8.760e+02 9.260e+02 7.050e+02\n",
      " 5.780e+02 5.000e+02 4.610e+02 1.669e+03 1.620e+02 9.500e+01 3.330e+02\n",
      " 3.780e+02 2.100e+02 2.760e+02 6.600e+01 4.210e+02 1.360e+02 2.300e+01\n",
      " 6.200e+01 5.770e+02 2.690e+02 7.680e+02 2.370e+02 2.340e+02 1.500e+02\n",
      " 1.590e+02 1.430e+02 1.960e+02 1.160e+02 2.780e+02 1.440e+02 8.900e+01\n",
      " 2.110e+02 1.280e+02 2.450e+02 4.026e+03 2.049e+03 1.927e+03 1.912e+03\n",
      "       nan]\n"
     ]
    }
   ],
   "source": [
    "for i in df:\n",
    "    print(df[i].unique())"
   ]
  },
  {
   "cell_type": "code",
   "execution_count": 8,
   "metadata": {},
   "outputs": [
    {
     "data": {
      "text/plain": [
       "challenge_id                object\n",
       "contest_id                  object\n",
       "domain                      object\n",
       "subdomain                   object\n",
       "difficulty                 float64\n",
       "solved_submission_count    float64\n",
       "total_submissions_count    float64\n",
       "dtype: object"
      ]
     },
     "execution_count": 8,
     "metadata": {},
     "output_type": "execute_result"
    }
   ],
   "source": [
    "df.dtypes"
   ]
  },
  {
   "cell_type": "code",
   "execution_count": 60,
   "metadata": {},
   "outputs": [
    {
     "data": {
      "text/plain": [
       "user_id         object\n",
       "contest_id      object\n",
       "challenge_id    object\n",
       "language        object\n",
       "solved           int64\n",
       "created_at      object\n",
       "dtype: object"
      ]
     },
     "execution_count": 60,
     "metadata": {},
     "output_type": "execute_result"
    }
   ],
   "source": [
    "df0.dtypes"
   ]
  },
  {
   "cell_type": "code",
   "execution_count": 9,
   "metadata": {},
   "outputs": [
    {
     "data": {
      "text/plain": [
       "Algorithms                 2.333932\n",
       "Regex                      0.610413\n",
       "SQL                        0.430880\n",
       "Mathematics                0.287253\n",
       "Data Structures            0.215440\n",
       "Artificial Intelligence    0.215440\n",
       "Java                       0.143627\n",
       "Tutorials                  0.143627\n",
       "C++                        0.107720\n",
       "Python                     0.071813\n",
       "Security                   0.071813\n",
       "Name: domain, dtype: float64"
      ]
     },
     "execution_count": 9,
     "metadata": {},
     "output_type": "execute_result"
    }
   ],
   "source": [
    "(df['domain'].value_counts()/len(df))*100\n"
   ]
  },
  {
   "cell_type": "code",
   "execution_count": 61,
   "metadata": {},
   "outputs": [
    {
     "data": {
      "text/plain": [
       "cpp        31.994048\n",
       "java       20.684524\n",
       "c          19.196429\n",
       "python     10.119048\n",
       "ruby        8.184524\n",
       "php         6.398810\n",
       "csharp      1.339286\n",
       "clojure     0.744048\n",
       "perl        0.595238\n",
       "scala       0.446429\n",
       "haskell     0.297619\n",
       "Name: language, dtype: float64"
      ]
     },
     "execution_count": 61,
     "metadata": {},
     "output_type": "execute_result"
    }
   ],
   "source": [
    "(df0['language'].value_counts()/len(df0))*100\n"
   ]
  },
  {
   "cell_type": "code",
   "execution_count": 10,
   "metadata": {},
   "outputs": [],
   "source": [
    "df.dropna(how='all',inplace = True)\n",
    "        "
   ]
  },
  {
   "cell_type": "code",
   "execution_count": 11,
   "metadata": {},
   "outputs": [
    {
     "data": {
      "text/plain": [
       "(293, 7)"
      ]
     },
     "execution_count": 11,
     "metadata": {},
     "output_type": "execute_result"
    }
   ],
   "source": [
    "df.shape"
   ]
  },
  {
   "cell_type": "code",
   "execution_count": 12,
   "metadata": {},
   "outputs": [
    {
     "data": {
      "text/plain": [
       "challenge_id                 0\n",
       "contest_id                   0\n",
       "domain                     164\n",
       "subdomain                  164\n",
       "difficulty                   0\n",
       "solved_submission_count      0\n",
       "total_submissions_count      0\n",
       "dtype: int64"
      ]
     },
     "execution_count": 12,
     "metadata": {},
     "output_type": "execute_result"
    }
   ],
   "source": [
    "df.isnull().sum()"
   ]
  },
  {
   "cell_type": "code",
   "execution_count": 13,
   "metadata": {},
   "outputs": [
    {
     "data": {
      "text/plain": [
       "Algorithms                 22.184300\n",
       "Regex                       5.802048\n",
       "SQL                         4.095563\n",
       "Mathematics                 2.730375\n",
       "Data Structures             2.047782\n",
       "Artificial Intelligence     2.047782\n",
       "Java                        1.365188\n",
       "Tutorials                   1.365188\n",
       "C++                         1.023891\n",
       "Security                    0.682594\n",
       "Python                      0.682594\n",
       "Name: domain, dtype: float64"
      ]
     },
     "execution_count": 13,
     "metadata": {},
     "output_type": "execute_result"
    }
   ],
   "source": [
    "(df['domain'].value_counts()/len(df))*100"
   ]
  },
  {
   "cell_type": "code",
   "execution_count": 15,
   "metadata": {
    "scrolled": true
   },
   "outputs": [
    {
     "data": {
      "text/plain": [
       "array(['c8ff662c97d345d2', '7039fc4af6ed4556', '2f6c6a2dd757af3e',\n",
       "       'daa4cc27262ca831', '1bd6ef073f52be3d', '63facc3d92e52a61',\n",
       "       'ce9a3f131a2bf4a7', '6d0f73fdaf822f9b', '860ce3deea5bbe9a',\n",
       "       '608d3889c41657fe', '751a395fd0bdc16e', '5516857d2c6c7c6c',\n",
       "       '31ae41ddf9265f3c', 'd9e6c7ce9a60ee61', '60a9ba06b0186c33',\n",
       "       '07ed069995630442', 'c80106f265b9e037', '5a39df6c6eeed315',\n",
       "       '84f32ffa6676b2c1', '2b5fd89bb50d6c59', '005ad8d849ec3b61',\n",
       "       'b862c31b13a6438b', '5d70c374e6959faf', '29602fc1cf9ce49b',\n",
       "       'fc9dfb49eecb191d', '3dbbd40af3bf63a1', '29e7c48f06d799bd',\n",
       "       'deca314ce03bebaa', '13764f698dd09bb8', '20de246c7ff33181',\n",
       "       '626610cbea06c552', '9f7f33de05b07520'], dtype=object)"
      ]
     },
     "execution_count": 15,
     "metadata": {},
     "output_type": "execute_result"
    }
   ],
   "source": [
    "df['contest_id'].unique()"
   ]
  },
  {
   "cell_type": "code",
   "execution_count": 69,
   "metadata": {},
   "outputs": [
    {
     "data": {
      "text/plain": [
       "array(['56d47667c6a9242e', '661657184c3d9218', '05d5253080e43d9f',\n",
       "       '2e6f65ce916e0717', '0f49d9761e9c8674', '4d025499868b7b53',\n",
       "       'ef8bff0286ecbf0e', '30de5ed0c6363f94', '2175c7af765fcea6',\n",
       "       '2137ef9f18093972', '209221210083cb2d', '84906a6239e7b3f9',\n",
       "       '32914cdd2c811ad4', '21cd2d333867ce4c', '04d76fb2cd35d996',\n",
       "       'ca4a70659e407c82', '7dc479beaebcc30f', 'a14b5b67b256ec7b',\n",
       "       '61cb0202e9992b74', '2b1413993990ca82', '1d08da3a6b512153',\n",
       "       '79071d9ef8b0d49f', '460e8feae5afcce9', '266d114d733af38d',\n",
       "       '6f6de19a0247471d', '427b63fe56f931c3', '412599f7128d78c4',\n",
       "       '624918ef3dd079bd', '63f89038f759c659', '51ec246e04b00746',\n",
       "       'bdcfece2a3d14543', 'f502e19b9b19c73e', '10d14fec26d9031f',\n",
       "       'dc7f91d4f9531fe3', '9b50637cf29af3f9', '9b3d21042787c3f8',\n",
       "       '7cbda9ad6866e4eb', '1a50a0e336510db3', '9cabae8270182fdc',\n",
       "       'd7838f1b1d8d52fc', '26e7a88b1647fdc4', '8368674300d58835',\n",
       "       '795ea29f21990391', '34f4082465a1a8bc', '75baf2cf56d6879f',\n",
       "       '13120c0396e1acd4', 'ab738adf088139a6', '7b7c3f921c977881',\n",
       "       '178c5baf90fe454a', 'a2767664032b61be', 'ad37db44fa664468',\n",
       "       '69f4b4c4607cdc48', '7d0aae69d34a4b22', '14f6453072c44f3a',\n",
       "       '283c71b010ab6259', '238fb334ed38de9a', 'ee96bdb2d82d783a',\n",
       "       '7c1103a74f6d12cd', 'feba142063d9b529', '493d318ccd78451a',\n",
       "       '87f357d9d42baf05', '0afa5d396aa72868', '6cb954be439f8917',\n",
       "       'ccf2643a7b0ea585', '9c2aa1f9cecad506', '8397513a880966bb',\n",
       "       'f16ee70ca8a81709', '0d7cf771a554c004', '3ab377c63530db99',\n",
       "       'cea9d8169aa48fe1', '1d390953116c7620', 'af8b1cfc3f11cceb',\n",
       "       'c7fd25d5c86d51dd'], dtype=object)"
      ]
     },
     "execution_count": 69,
     "metadata": {},
     "output_type": "execute_result"
    }
   ],
   "source": [
    "df0['user_id'].unique()"
   ]
  },
  {
   "cell_type": "code",
   "execution_count": 16,
   "metadata": {},
   "outputs": [
    {
     "data": {
      "text/plain": [
       "Implementation            6.484642\n",
       "Strings                   4.436860\n",
       "Introduction              4.436860\n",
       "Sorting                   4.436860\n",
       "Basic Select              4.095563\n",
       "Dynamic Programming       2.730375\n",
       "Warmup                    2.730375\n",
       "Fundamentals              2.389078\n",
       "Bot Building              2.047782\n",
       "Repetitions               1.706485\n",
       "Linked Lists              1.706485\n",
       "30 Days of Code           1.365188\n",
       "Character Class           1.023891\n",
       "Grouping and Capturing    1.023891\n",
       "Graph Theory              1.023891\n",
       "Functions                 0.682594\n",
       "Arrays                    0.341297\n",
       "Combinatorics             0.341297\n",
       "Greedy                    0.341297\n",
       "Search                    0.341297\n",
       "Basic Data Types          0.341297\n",
       "Name: subdomain, dtype: float64"
      ]
     },
     "execution_count": 16,
     "metadata": {},
     "output_type": "execute_result"
    }
   ],
   "source": [
    "(df['subdomain'].value_counts()/len(df))*100"
   ]
  },
  {
   "cell_type": "code",
   "execution_count": 22,
   "metadata": {},
   "outputs": [
    {
     "data": {
      "text/plain": [
       "challenge_id\n",
       "7e860acda8697471    3769.0\n",
       "0ea21bb9feaf46c8    3572.0\n",
       "55f8a66f057a7e76    2938.0\n",
       "c9713aed1d68c5b5    2675.0\n",
       "34386eca594b7bc2    2631.0\n",
       "Name: solved_submission_count, dtype: float64"
      ]
     },
     "execution_count": 22,
     "metadata": {},
     "output_type": "execute_result"
    }
   ],
   "source": [
    "df.groupby('challenge_id')['solved_submission_count'].mean().sort_values(ascending = False).head()"
   ]
  },
  {
   "cell_type": "code",
   "execution_count": 33,
   "metadata": {},
   "outputs": [
    {
     "data": {
      "text/plain": [
       "contest_id\n",
       "c8ff662c97d345d2    666.609023\n",
       "ce9a3f131a2bf4a7    117.000000\n",
       "29e7c48f06d799bd     47.000000\n",
       "5d70c374e6959faf     42.803922\n",
       "3dbbd40af3bf63a1     41.800000\n",
       "Name: solved_submission_count, dtype: float64"
      ]
     },
     "execution_count": 33,
     "metadata": {},
     "output_type": "execute_result"
    }
   ],
   "source": [
    "df.groupby('contest_id')['solved_submission_count'].mean().sort_values(ascending = False).head()"
   ]
  },
  {
   "cell_type": "code",
   "execution_count": 23,
   "metadata": {},
   "outputs": [
    {
     "data": {
      "text/plain": [
       "challenge_id\n",
       "b49bb8ec9c2b8481    7000.0\n",
       "7e860acda8697471    5192.0\n",
       "55f8a66f057a7e76    4409.0\n",
       "0ea21bb9feaf46c8    4282.0\n",
       "dcb76def3ced9d7b    4026.0\n",
       "Name: total_submissions_count, dtype: float64"
      ]
     },
     "execution_count": 23,
     "metadata": {},
     "output_type": "execute_result"
    }
   ],
   "source": [
    "df.groupby('challenge_id')['total_submissions_count'].mean().sort_values(ascending = False).head()"
   ]
  },
  {
   "cell_type": "code",
   "execution_count": 32,
   "metadata": {},
   "outputs": [
    {
     "name": "stdout",
     "output_type": "stream",
     "text": [
      "                  solved_submission_count  total_submissions_count\n",
      "challenge_id                                                      \n",
      "00af4811ef54e51c                      9.0                     97.0\n",
      "010d99944600fbb8                     20.0                     35.0\n",
      "0173f00226fa8137                    224.0                    263.0\n",
      "0251520ace81bc57                    765.0                   1267.0\n",
      "03f695b30470d8a0                      4.0                     27.0\n",
      "(285, 2)\n"
     ]
    }
   ],
   "source": [
    "solved_count = pd.DataFrame(df.groupby('challenge_id')['solved_submission_count'].mean())\n",
    "solved_count['total_submissions_count'] = pd.DataFrame(df.groupby('challenge_id')['total_submissions_count'].mean())\n",
    "print(solved_count.head())\n",
    "print(solved_count.shape)"
   ]
  },
  {
   "cell_type": "code",
   "execution_count": 34,
   "metadata": {},
   "outputs": [
    {
     "data": {
      "text/plain": [
       "<matplotlib.axes._subplots.AxesSubplot at 0x28428e6ef60>"
      ]
     },
     "execution_count": 34,
     "metadata": {},
     "output_type": "execute_result"
    },
    {
     "data": {
      "image/png": "[encoded data removed]",
      "text/plain": [
       "<Figure size 720x288 with 1 Axes>"
      ]
     },
     "metadata": {
      "needs_background": "light"
     },
     "output_type": "display_data"
    }
   ],
   "source": [
    "plt.figure(figsize = (10,4))\n",
    "solved_count['total_submissions_count'].hist(bins = 70)"
   ]
  },
  {
   "cell_type": "code",
   "execution_count": 36,
   "metadata": {},
   "outputs": [
    {
     "data": {
      "text/plain": [
       "<matplotlib.axes._subplots.AxesSubplot at 0x2842969ba90>"
      ]
     },
     "execution_count": 36,
     "metadata": {},
     "output_type": "execute_result"
    },
    {
     "data": {
      "image/png": "[encoded data removed]",
      "text/plain": [
       "<Figure size 720x288 with 1 Axes>"
      ]
     },
     "metadata": {
      "needs_background": "light"
     },
     "output_type": "display_data"
    }
   ],
   "source": [
    "plt.figure(figsize = (10,4))\n",
    "solved_count['solved_submission_count'].hist(bins = 70)"
   ]
  },
  {
   "cell_type": "code",
   "execution_count": 37,
   "metadata": {},
   "outputs": [
    {
     "data": {
      "text/plain": [
       "domain\n",
       "Java               1399.250000\n",
       "Tutorials          1354.750000\n",
       "C++                1073.666667\n",
       "Data Structures     873.166667\n",
       "Algorithms          793.169231\n",
       "Name: solved_submission_count, dtype: float64"
      ]
     },
     "execution_count": 37,
     "metadata": {},
     "output_type": "execute_result"
    }
   ],
   "source": [
    "df.groupby('domain')['solved_submission_count'].mean().sort_values(ascending = False).head()"
   ]
  },
  {
   "cell_type": "code",
   "execution_count": 38,
   "metadata": {},
   "outputs": [
    {
     "data": {
      "text/plain": [
       "domain\n",
       "Tutorials          2478.500000\n",
       "Java               2123.250000\n",
       "C++                1654.000000\n",
       "Algorithms         1476.046154\n",
       "Data Structures    1071.166667\n",
       "Name: total_submissions_count, dtype: float64"
      ]
     },
     "execution_count": 38,
     "metadata": {},
     "output_type": "execute_result"
    }
   ],
   "source": [
    "df.groupby('domain')['total_submissions_count'].mean().sort_values(ascending = False).head()"
   ]
  },
  {
   "cell_type": "code",
   "execution_count": 41,
   "metadata": {},
   "outputs": [
    {
     "data": {
      "text/plain": [
       "<matplotlib.axes._subplots.AxesSubplot at 0x284298fd4e0>"
      ]
     },
     "execution_count": 41,
     "metadata": {},
     "output_type": "execute_result"
    },
    {
     "data": {
      "image/png": "[encoded data removed]",
      "text/plain": [
       "<Figure size 432x288 with 1 Axes>"
      ]
     },
     "metadata": {
      "needs_background": "light"
     },
     "output_type": "display_data"
    }
   ],
   "source": [
    "df.groupby('domain')['total_submissions_count'].mean().plot.bar()"
   ]
  },
  {
   "cell_type": "code",
   "execution_count": 51,
   "metadata": {},
   "outputs": [
    {
     "data": {
      "text/plain": [
       "(array([ 0,  1,  2,  3,  4,  5,  6,  7,  8,  9, 10]),\n",
       " <a list of 11 Text major ticklabel objects>)"
      ]
     },
     "execution_count": 51,
     "metadata": {},
     "output_type": "execute_result"
    },
    {
     "data": {
      "image/png": "[encoded data removed]",
      "text/plain": [
       "<Figure size 432x288 with 1 Axes>"
      ]
     },
     "metadata": {
      "needs_background": "light"
     },
     "output_type": "display_data"
    }
   ],
   "source": [
    "df.groupby('domain')['solved_submission_count'].mean().plot.bar()\n",
    "plt.xticks(rotation=45)"
   ]
  },
  {
   "cell_type": "code",
   "execution_count": 50,
   "metadata": {},
   "outputs": [
    {
     "data": {
      "text/plain": [
       "([0, 1, 2, 3, 4, 5, 6, 7, 8, 9, 10],\n",
       " <a list of 11 Text major ticklabel objects>)"
      ]
     },
     "execution_count": 50,
     "metadata": {},
     "output_type": "execute_result"
    },
    {
     "data": {
      "image/png": "[encoded data removed]",
      "text/plain": [
       "<Figure size 432x288 with 1 Axes>"
      ]
     },
     "metadata": {
      "needs_background": "light"
     },
     "output_type": "display_data"
    }
   ],
   "source": [
    "chart = sns.scatterplot(x = 'domain', y = 'solved_submission_count', data = df,alpha = 0.5)\n",
    "plt.xticks(rotation=45)"
   ]
  },
  {
   "cell_type": "code",
   "execution_count": 62,
   "metadata": {},
   "outputs": [
    {
     "data": {
      "text/plain": [
       "<matplotlib.axes._subplots.AxesSubplot at 0x28429effb38>"
      ]
     },
     "execution_count": 62,
     "metadata": {},
     "output_type": "execute_result"
    },
    {
     "data": {
      "image/png": "[encoded data removed]",
      "text/plain": [
       "<Figure size 432x288 with 1 Axes>"
      ]
     },
     "metadata": {
      "needs_background": "light"
     },
     "output_type": "display_data"
    }
   ],
   "source": [
    "df0.groupby('language')['user_id'].count().plot.bar()"
   ]
  },
  {
   "cell_type": "code",
   "execution_count": 70,
   "metadata": {},
   "outputs": [
    {
     "data": {
      "text/html": [
       "<div>\n",
       "<style scoped>\n",
       "    .dataframe tbody tr th:only-of-type {\n",
       "        vertical-align: middle;\n",
       "    }\n",
       "\n",
       "    .dataframe tbody tr th {\n",
       "        vertical-align: top;\n",
       "    }\n",
       "\n",
       "    .dataframe thead th {\n",
       "        text-align: right;\n",
       "    }\n",
       "</style>\n",
       "<table border=\"1\" class=\"dataframe\">\n",
       "  <thead>\n",
       "    <tr style=\"text-align: right;\">\n",
       "      <th></th>\n",
       "      <th>user_id</th>\n",
       "      <th>contest_id</th>\n",
       "      <th>challenge_id_x</th>\n",
       "      <th>language</th>\n",
       "      <th>solved</th>\n",
       "      <th>created_at</th>\n",
       "      <th>challenge_id_y</th>\n",
       "      <th>domain</th>\n",
       "      <th>subdomain</th>\n",
       "      <th>difficulty</th>\n",
       "      <th>solved_submission_count</th>\n",
       "      <th>total_submissions_count</th>\n",
       "    </tr>\n",
       "  </thead>\n",
       "  <tbody>\n",
       "    <tr>\n",
       "      <th>0</th>\n",
       "      <td>56d47667c6a9242e</td>\n",
       "      <td>c8ff662c97d345d2</td>\n",
       "      <td>6d95afeb4d968b91</td>\n",
       "      <td>java</td>\n",
       "      <td>0</td>\n",
       "      <td>2011-08-07 00:36:53 UTC</td>\n",
       "      <td>18e0a2dad5e127d6</td>\n",
       "      <td>Artificial Intelligence</td>\n",
       "      <td>Bot Building</td>\n",
       "      <td>0.978261</td>\n",
       "      <td>319.0</td>\n",
       "      <td>655.0</td>\n",
       "    </tr>\n",
       "    <tr>\n",
       "      <th>1</th>\n",
       "      <td>56d47667c6a9242e</td>\n",
       "      <td>c8ff662c97d345d2</td>\n",
       "      <td>6d95afeb4d968b91</td>\n",
       "      <td>java</td>\n",
       "      <td>0</td>\n",
       "      <td>2011-08-07 00:36:53 UTC</td>\n",
       "      <td>0251520ace81bc57</td>\n",
       "      <td>Algorithms</td>\n",
       "      <td>Strings</td>\n",
       "      <td>0.894473</td>\n",
       "      <td>765.0</td>\n",
       "      <td>1267.0</td>\n",
       "    </tr>\n",
       "    <tr>\n",
       "      <th>2</th>\n",
       "      <td>56d47667c6a9242e</td>\n",
       "      <td>c8ff662c97d345d2</td>\n",
       "      <td>6d95afeb4d968b91</td>\n",
       "      <td>java</td>\n",
       "      <td>0</td>\n",
       "      <td>2011-08-07 00:36:53 UTC</td>\n",
       "      <td>425f241df843cd89</td>\n",
       "      <td>Algorithms</td>\n",
       "      <td>Strings</td>\n",
       "      <td>0.908853</td>\n",
       "      <td>1247.0</td>\n",
       "      <td>1864.0</td>\n",
       "    </tr>\n",
       "    <tr>\n",
       "      <th>3</th>\n",
       "      <td>56d47667c6a9242e</td>\n",
       "      <td>c8ff662c97d345d2</td>\n",
       "      <td>6d95afeb4d968b91</td>\n",
       "      <td>java</td>\n",
       "      <td>0</td>\n",
       "      <td>2011-08-07 00:36:53 UTC</td>\n",
       "      <td>970eca328814a522</td>\n",
       "      <td>Algorithms</td>\n",
       "      <td>Strings</td>\n",
       "      <td>0.902722</td>\n",
       "      <td>453.0</td>\n",
       "      <td>835.0</td>\n",
       "    </tr>\n",
       "    <tr>\n",
       "      <th>4</th>\n",
       "      <td>56d47667c6a9242e</td>\n",
       "      <td>c8ff662c97d345d2</td>\n",
       "      <td>6d95afeb4d968b91</td>\n",
       "      <td>java</td>\n",
       "      <td>0</td>\n",
       "      <td>2011-08-07 00:36:53 UTC</td>\n",
       "      <td>46592c29655cfc5e</td>\n",
       "      <td>Algorithms</td>\n",
       "      <td>Strings</td>\n",
       "      <td>0.900000</td>\n",
       "      <td>312.0</td>\n",
       "      <td>1363.0</td>\n",
       "    </tr>\n",
       "  </tbody>\n",
       "</table>\n",
       "</div>"
      ],
      "text/plain": [
       "            user_id        contest_id    challenge_id_x language  solved  \\\n",
       "0  56d47667c6a9242e  c8ff662c97d345d2  6d95afeb4d968b91     java       0   \n",
       "1  56d47667c6a9242e  c8ff662c97d345d2  6d95afeb4d968b91     java       0   \n",
       "2  56d47667c6a9242e  c8ff662c97d345d2  6d95afeb4d968b91     java       0   \n",
       "3  56d47667c6a9242e  c8ff662c97d345d2  6d95afeb4d968b91     java       0   \n",
       "4  56d47667c6a9242e  c8ff662c97d345d2  6d95afeb4d968b91     java       0   \n",
       "\n",
       "                created_at    challenge_id_y                   domain  \\\n",
       "0  2011-08-07 00:36:53 UTC  18e0a2dad5e127d6  Artificial Intelligence   \n",
       "1  2011-08-07 00:36:53 UTC  0251520ace81bc57               Algorithms   \n",
       "2  2011-08-07 00:36:53 UTC  425f241df843cd89               Algorithms   \n",
       "3  2011-08-07 00:36:53 UTC  970eca328814a522               Algorithms   \n",
       "4  2011-08-07 00:36:53 UTC  46592c29655cfc5e               Algorithms   \n",
       "\n",
       "      subdomain  difficulty  solved_submission_count  total_submissions_count  \n",
       "0  Bot Building    0.978261                    319.0                    655.0  \n",
       "1       Strings    0.894473                    765.0                   1267.0  \n",
       "2       Strings    0.908853                   1247.0                   1864.0  \n",
       "3       Strings    0.902722                    453.0                    835.0  \n",
       "4       Strings    0.900000                    312.0                   1363.0  "
      ]
     },
     "execution_count": 70,
     "metadata": {},
     "output_type": "execute_result"
    }
   ],
   "source": [
    "df1 = pd.merge(df0,df,on='contest_id')\n",
    "df1.head()"
   ]
  },
  {
   "cell_type": "code",
   "execution_count": 71,
   "metadata": {},
   "outputs": [
    {
     "data": {
      "text/plain": [
       "(79268, 12)"
      ]
     },
     "execution_count": 71,
     "metadata": {},
     "output_type": "execute_result"
    }
   ],
   "source": [
    "df1.shape"
   ]
  },
  {
   "cell_type": "code",
   "execution_count": 72,
   "metadata": {},
   "outputs": [
    {
     "data": {
      "text/plain": [
       "user_id                       0\n",
       "contest_id                    0\n",
       "challenge_id_x                0\n",
       "language                      0\n",
       "solved                        0\n",
       "created_at                    0\n",
       "challenge_id_y                0\n",
       "domain                     2384\n",
       "subdomain                  2384\n",
       "difficulty                    0\n",
       "solved_submission_count       0\n",
       "total_submissions_count       0\n",
       "dtype: int64"
      ]
     },
     "execution_count": 72,
     "metadata": {},
     "output_type": "execute_result"
    }
   ],
   "source": [
    "df1.isnull().sum()"
   ]
  },
  {
   "cell_type": "code",
   "execution_count": null,
   "metadata": {},
   "outputs": [],
   "source": []
  }
 ],
 "metadata": {
  "kernelspec": {
   "display_name": "Python 3",
   "language": "python",
   "name": "python3"
  },
  "language_info": {
   "codemirror_mode": {
    "name": "ipython",
    "version": 3
   },
   "file_extension": ".py",
   "mimetype": "text/x-python",
   "name": "python",
   "nbconvert_exporter": "python",
   "pygments_lexer": "ipython3",
   "version": "3.7.3"
  }
 },
 "nbformat": 4,
 "nbformat_minor": 4
}
